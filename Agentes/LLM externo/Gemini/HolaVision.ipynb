{
 "cells": [
  {
   "cell_type": "markdown",
   "metadata": {},
   "source": [
    "# **Nivel básico de como puede ver cosas**"
   ]
  },
  {
   "cell_type": "code",
   "execution_count": 15,
   "metadata": {},
   "outputs": [],
   "source": [
    "from PIL import Image # Para manejar imágenes\n",
    "import os # Para manejar el sistema operativo\n",
    "from dotenv import load_dotenv # Para manejar variables de entorno\n",
    "from google import genai # Para usar los modelos \n",
    "from google.genai import types"
   ]
  },
  {
   "cell_type": "code",
   "execution_count": 3,
   "metadata": {},
   "outputs": [],
   "source": [
    "load_dotenv() # Cragamos la api_key\n",
    "api_key = os.getenv('API_KEY') # La guardamos en una variable\n"
   ]
  },
  {
   "cell_type": "code",
   "execution_count": 22,
   "metadata": {},
   "outputs": [],
   "source": [
    "imagen = Image.open('SS2.jpeg') # Abrimos la imagen"
   ]
  },
  {
   "cell_type": "code",
   "execution_count": 23,
   "metadata": {},
   "outputs": [
    {
     "name": "stdout",
     "output_type": "stream",
     "text": [
      "```json\n",
      "{\n",
      "  \"CODIFICACIONES\": {\n",
      "    \"Clase y Tipo\": [\n",
      "      \"01 Automóviles\",\n",
      "      \"11 Convertible\",\n",
      "      \"2 Coupe\",\n",
      "      \"3 Jeep\",\n",
      "      \"4 Limousine\",\n",
      "      \"5 Sedán\",\n",
      "      \"6 Sport\",\n",
      "      \"7 Vagoneta\",\n",
      "      \"0 No especificado\",\n",
      "      \"Remolque\",\n",
      "      \"61 Caja\",\n",
      "      \"62 Dolly\",\n",
      "      \"63 Habitación\",\n",
      "      \"64 Industrial\",\n",
      "      \"65 Jaula\"\n",
      "    ],\n",
      "    \"66 Plataforma\",\n",
      "    \"67 Refrigerador\",\n",
      "    \"68 Tanque(s)\",\n",
      "    \"69 No especificado\",\n",
      "    \"Combustible\": [\n",
      "      \"01 Gasolina\",\n",
      "      \"02 Gas L.P.\",\n",
      "      \"03 Gas natural\",\n",
      "      \"04 Diesel\",\n",
      "      \"05 Eléctrico\",\n",
      "      \"06 Otros\",\n",
      "      \"07 Manual\",\n",
      "      \"08 No usa\"\n",
      "    ],\n",
      "    \"Uso del vehículo\": [\n",
      "      \"36 Particular\"\n",
      "    ]\n",
      "  },\n",
      "  \"A3319930\": {\n",
      "    \"Servicio\": [\n",
      "      \"01 Particular\"\n",
      "    ],\n",
      "    \"Trámite\": [\n",
      "      \"01 Alta\",\n",
      "      \"02 Baja\",\n",
      "      \"04 Cambio de propietario\",\n",
      "      \"05 Cambio de domicilio\",\n",
      "      \"06 Cambio de motor\",\n",
      "      \"07 Cambio de carroceria\",\n",
      "      \"08 Reposición de tarjeta\"\n",
      "    ],\n",
      "    \"Origen del vehiculo\": [\n",
      "      \"01 Nacional\",\n",
      "      \"02 Extranjero\"\n",
      "    ]\n",
      "  },\n",
      "  \"IMPORTANTE\": \"Se deberá cumplir con lo establecido en el Reglamento de Control Vehicular y de Licencias y Perma para conducir en el Distrito Federal, donde se señala que dentro de los primeros 15 dias hábiles siguientes a la fech vents, se dará aviso a la Secretaria de Movilidad de la transmisión de la propiedad del vehículo a otra persona fisi moral. Asimismo, el adquiriente deberá solicitar en un término máximo de 15 dias hábiles contados a partir d transmisión de la propiedad y previo cumplimiento de los requisitos establecidos, la autorización del trámite de car de propietario, a fin de actualizar el Padrón Vehicular y el registro administrativo fiscal de la Administración Pública c Ciudad de México.\"\n",
      "}\n",
      "```\n"
     ]
    }
   ],
   "source": [
    "client = genai.Client(api_key=api_key) # Pasamos la api_key\n",
    "\n",
    "response = client.models.generate_content(model='gemini-2.0-flash-lite',\n",
    "                                          contents=[imagen, \"Por favor, escribe el texto de esa imagen pero en formato JSON\"],\n",
    "                                          config=types.GenerateContentConfig(\n",
    "                                              temperature=0.1\n",
    "                                          )\n",
    "                                          )\n",
    "\n",
    "print(response.text)"
   ]
  }
 ],
 "metadata": {
  "kernelspec": {
   "display_name": ".venv",
   "language": "python",
   "name": "python3"
  },
  "language_info": {
   "codemirror_mode": {
    "name": "ipython",
    "version": 3
   },
   "file_extension": ".py",
   "mimetype": "text/x-python",
   "name": "python",
   "nbconvert_exporter": "python",
   "pygments_lexer": "ipython3",
   "version": "3.12.6"
  }
 },
 "nbformat": 4,
 "nbformat_minor": 2
}
