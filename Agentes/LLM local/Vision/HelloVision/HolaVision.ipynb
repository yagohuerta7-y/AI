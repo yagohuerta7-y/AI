{
 "cells": [
  {
   "cell_type": "markdown",
   "metadata": {},
   "source": [
    "# **Ejemplo básico de como interactuar con un modelo multimodal**"
   ]
  },
  {
   "cell_type": "code",
   "execution_count": 1,
   "metadata": {},
   "outputs": [],
   "source": [
    "# Importamos las librerías\n",
    "import ollama\n",
    "from PIL import Image\n",
    "import easyocr"
   ]
  },
  {
   "cell_type": "markdown",
   "metadata": {},
   "source": [
    "### **Ejemplo básico del manejo de Pillow**"
   ]
  },
  {
   "cell_type": "code",
   "execution_count": 5,
   "metadata": {},
   "outputs": [
    {
     "name": "stdout",
     "output_type": "stream",
     "text": [
      "Formato: PNG\n",
      "Tamaño: (286, 41)\n",
      "Modo: RGBA\n"
     ]
    }
   ],
   "source": [
    "# Abrimos la imagen\n",
    "imagen = Image.open('SS1.png')\n",
    "\n",
    "# Mostramos la información de la imagen\n",
    "print(f'Formato: {imagen.format}')\n",
    "print(f\"Tamaño: {imagen.size}\")\n",
    "print(f\"Modo: {imagen.mode}\")\n"
   ]
  },
  {
   "cell_type": "code",
   "execution_count": 6,
   "metadata": {},
   "outputs": [],
   "source": [
    "# Muestra la imagen\n",
    "imagen.show()"
   ]
  },
  {
   "cell_type": "markdown",
   "metadata": {},
   "source": [
    "### **Visión con Gemma 3**"
   ]
  },
  {
   "cell_type": "code",
   "execution_count": 24,
   "metadata": {},
   "outputs": [
    {
     "name": "stderr",
     "output_type": "stream",
     "text": [
      "<>:2: SyntaxWarning: invalid escape sequence '\\y'\n",
      "<>:2: SyntaxWarning: invalid escape sequence '\\y'\n",
      "C:\\Users\\yagoh\\AppData\\Local\\Temp\\ipykernel_6284\\1125917930.py:2: SyntaxWarning: invalid escape sequence '\\y'\n",
      "  mensaje = f\"Extrae el texto de la siguiente imagen: {'Users\\yagoh\\OneDrive\\Escritorio\\Programación\\IA\\LLM\\Agentes\\LLM local\\Vision\\HelloVision\\SS1.png'}\"\n"
     ]
    },
    {
     "name": "stdout",
     "output_type": "stream",
     "text": [
      "Por favor, proporciona la imagen. No puedo extraer el texto de una imagen que no puedo ver.  Necesito que subas la imagen o me la describas con detalle para poder ayudarte.\n",
      "\n"
     ]
    }
   ],
   "source": [
    "# Definimos el prompt que vamos a usar\n",
    "mensaje = f\"Extrae el texto de la siguiente imagen: {'Users\\yagoh\\OneDrive\\Escritorio\\Programación\\IA\\LLM\\Agentes\\LLM local\\Vision\\HelloVision\\SS1.png'}\"\n",
    "\n",
    "# Definimos el modelo que vamos a usar\n",
    "modelo = 'gemma3:4b'\n",
    "\n",
    "respuesta = ollama.generate(model=modelo,\n",
    "                          prompt = mensaje,\n",
    "\n",
    "                          options={\n",
    "                            'temperature':0.1 # Baja creatividad, para que responda con mayor presición\n",
    "                          },\n",
    "\n",
    "                          keep_alive='0'\n",
    "                         )\n",
    "\n",
    "\n",
    "\n",
    "print(respuesta['response'])"
   ]
  },
  {
   "cell_type": "code",
   "execution_count": 26,
   "metadata": {},
   "outputs": [
    {
     "name": "stderr",
     "output_type": "stream",
     "text": [
      "<>:28: SyntaxWarning: invalid escape sequence '\\V'\n",
      "<>:28: SyntaxWarning: invalid escape sequence '\\V'\n",
      "C:\\Users\\yagoh\\AppData\\Local\\Temp\\ipykernel_6284\\3807023191.py:28: SyntaxWarning: invalid escape sequence '\\V'\n",
      "  image_path = \"LLM local\\Vision\\HelloVision\\SS1.png\" #Ruta de la imagen\n",
      "Neither CUDA nor MPS are available - defaulting to CPU. Note: This module is much faster with a GPU.\n",
      "Downloading detection model, please wait. This may take several minutes depending upon your network connection.\n"
     ]
    },
    {
     "name": "stdout",
     "output_type": "stream",
     "text": [
      "Progress: |██████████████████████████████████████████████████| 100.0% Complete"
     ]
    },
    {
     "name": "stderr",
     "output_type": "stream",
     "text": [
      "Downloading recognition model, please wait. This may take several minutes depending upon your network connection.\n"
     ]
    },
    {
     "name": "stdout",
     "output_type": "stream",
     "text": [
      "Progress: |██████████████████████████████████████████████████| 100.0% CompleteAn error occurred: No such file: 'c:\\Users\\yagoh\\OneDrive\\Escritorio\\Programación\\IA\\LLM\\Agentes\\LLM local\\Vision\\HelloVision\\LLM local\\Vision\\HelloVision\\SS1.png'\n"
     ]
    }
   ],
   "source": [
    "from PIL import Image\n",
    "import easyocr\n",
    "import subprocess\n",
    "\n",
    "def image_to_text_with_ollama(image_path):\n",
    "    \"\"\"Extrae texto de una imagen y lo procesa con Ollama.\"\"\"\n",
    "    try:\n",
    "        # Extraer texto de la imagen\n",
    "        reader = easyocr.Reader(['en', 'es']) # 'en' para ingles, y 'es' para español\n",
    "        result = reader.readtext(image_path)\n",
    "        text = ' '.join([detection[1] for detection in result])\n",
    "\n",
    "        # Enviar texto a Ollama\n",
    "        ollama_command = f'ollama run gemma3:4b \"{text}\"'\n",
    "        ollama_process = subprocess.Popen(ollama_command, shell=True, stdout=subprocess.PIPE, stderr=subprocess.PIPE)\n",
    "        ollama_output, ollama_error = ollama_process.communicate()\n",
    "\n",
    "        # Imprimir la respuesta de Ollama\n",
    "        if ollama_output:\n",
    "            print(\"Ollama response:\", ollama_output.decode())\n",
    "        if ollama_error:\n",
    "            print(\"Ollama error:\", ollama_error.decode())\n",
    "\n",
    "    except Exception as e:\n",
    "        print(f\"An error occurred: {e}\")\n",
    "\n",
    "# Ejemplo de uso\n",
    "image_path = \"LLM local\\Vision\\HelloVision\\SS1.png\" #Ruta de la imagen\n",
    "image_to_text_with_ollama(image_path)"
   ]
  }
 ],
 "metadata": {
  "kernelspec": {
   "display_name": ".venv",
   "language": "python",
   "name": "python3"
  },
  "language_info": {
   "codemirror_mode": {
    "name": "ipython",
    "version": 3
   },
   "file_extension": ".py",
   "mimetype": "text/x-python",
   "name": "python",
   "nbconvert_exporter": "python",
   "pygments_lexer": "ipython3",
   "version": "3.12.6"
  }
 },
 "nbformat": 4,
 "nbformat_minor": 2
}
