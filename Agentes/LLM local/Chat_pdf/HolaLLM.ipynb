{
 "cells": [
  {
   "cell_type": "markdown",
   "metadata": {},
   "source": [
    "# **Este es el ejemplo más básico de como iteractuar con el modelo de LLM localmente**"
   ]
  },
  {
   "cell_type": "markdown",
   "metadata": {},
   "source": [
    "* Para crear entornos virtuales es con: python m venv <nombre_del_entorno_virtual>\n",
    "\n",
    "<br>\n",
    "\n",
    "* Para activarlo es con: <nombre_del_entorno_virtual>\\Scripts\\activate\n",
    "\n",
    "<br>\n",
    "\n",
    "* Para desactivarlo es con: deactivate\n"
   ]
  },
  {
   "cell_type": "code",
   "execution_count": null,
   "metadata": {},
   "outputs": [],
   "source": [
    "# Importamos la librería\n",
    "import ollama"
   ]
  },
  {
   "cell_type": "code",
   "execution_count": null,
   "metadata": {},
   "outputs": [],
   "source": [
    "# Definimos nuestro prompt\n",
    "promp_imput = \"Hola, dime un poema\""
   ]
  },
  {
   "cell_type": "code",
   "execution_count": null,
   "metadata": {},
   "outputs": [
    {
     "name": "stdout",
     "output_type": "stream",
     "text": [
      "En el reino de la mente silenciosa y serena,  \n",
      "Un brote delicado pero poderoso surge—un poema. Su esencia se alinea con los ritmos profundos que anidan dentro:\n",
      "\n",
      "Bajo cielo estrellado nocturno rico en neón místicos,  \n",
      "El silencio susurra historias ocultas y secretivas a las sombras—una danza del destino. \n",
      "La Luna es la bailarina lángida de esta melodía celestial; una guinda brillante entre los hilos nocturnos,  \n",
      "Su manto refleja un lienzo iluminado por el silencioso canto universal del viento. \n",
      "En sus pálidos y serena tonales se escuchan las lecciones de la naturaledictión—una sinfonía cósmica inaudible: una vida, dulcemente suave en los labios más antiguos.  \n",
      "Un beso silencioso del aliento infinito que fluye a través de cada crepúsculo y amanecer; un abrazo susurrante entre la tierra prometida—la belleza encantadora, sin límites ni medidas: el corazón etéreo.\n",
      "\n",
      "Entre los árboles venerables que respiren siglos de sabiduría silenciosa y desaparecida historia; una red intrincada del tiempo tejida en cada rama—una tela invisibles, pero palpable:  \n",
      "La danza eterna entre el pasado e infinito presente. La maravilla que fluye como un río sin llegar a la línea de desembocadura; una historia nunca escrita y siempre contada en las profundidades del silencio: \n",
      "Un relato interminable, no grabado por lágrimas ni palabras—un poema perpetuo.  \n",
      "Nuestro corazón atrapado entre los hilos de esta belleza sin fin; una sincronía con la vida que reside en el delicado equilibrio: un amor profundo pero silencioso, puramente puro y divino—un poema alucinante.\n"
     ]
    }
   ],
   "source": [
    "# 1. Interacción de chat con el modelo.\n",
    "#    Utiliza la función 'chat' para mantener un contexto de conversación.\n",
    "#    El parámetro 'messages' es una lista de mensajes con roles ('user', 'assistant', 'system').\n",
    "#    La respuesta contiene metadatos y el contenido del mensaje del modelo está en ['message']['content'].\n",
    "response = ollama.chat(model=\"phi3.5:latest\", \n",
    "                       messages= [{\"role\": \"user\", \"content\": promp_imput}]\n",
    "                       )\n",
    "                       \n",
    "print(response[\"message\"][\"content\"])"
   ]
  },
  {
   "cell_type": "code",
   "execution_count": null,
   "metadata": {},
   "outputs": [
    {
     "name": "stdout",
     "output_type": "stream",
     "text": [
      "En el jardín del tiempo silencioso y gris,  \n",
      "Donde las hojas susurran historias de antaño,   \n",
      "Un verso emerge en tonos tierno e íntimo,    \n",
      "Con pétalos recogidos por la brisa. \n",
      "\n",
      "Oh manto dorado del amanecer otoñal,  \n",
      "Tu cálido abrazo teje un soneto al aire fresco y limpio:   \n",
      "\"Como hojas danzantes en el viento suave de los días vacacionales (septentrionales), \n",
      "El camino nos espera con sueños dorados.\"  \n",
      "\n",
      "Por entrelazadas ramas, misurando cada paso al ritmo del zumbido silencioso y rítmico:   \n",
      "\"En las calles adornadas de madera desgastada por el tiempo— \n",
      "Conversemos bajo la sombra gentil.\"  \n",
      "\n",
      "Esta poesía en camino, donde cada estrofa es una puerta abierta hacia un encuentro esperado y sincero:   \n",
      "\"En las dulces palabras nuestra historia está tejida con hebras del día; \n",
      "Cada saludo incipiente—un verso fresco.\"  \n",
      "\n",
      "Y así, en el corazón de esta tierra donde la naturaleza escribe su canción constante y eterna:   \n",
      "\"En cada rincón encontramos una página para leer o un silencio esperado; \n",
      "Conversemos bajo los cielos—nos levantaremos.\"\n"
     ]
    }
   ],
   "source": [
    "# 2. Generación de texto simple con el modelo (forma abreviada).\n",
    "#    Utiliza la función 'generate' para generar texto basado en un 'prompt'.\n",
    "#    No mantiene un contexto de conversación implícito.\n",
    "#    La respuesta contiene el texto generado directamente en ['response'].\n",
    "#    'keep_alive=\"0\"' cierra la conexión con el modelo después de la respuesta.\n",
    "print(ollama.generate(model = \"phi3.5:latest\", prompt = promp_imput, keep_alive=\"0\")[\"response\"])"
   ]
  },
  {
   "cell_type": "code",
   "execution_count": null,
   "metadata": {},
   "outputs": [],
   "source": [
    "# 3. Generación de texto con opciones de configuración.\n",
    "#    Utiliza la función 'generate' con el parámetro 'options' para configurar la generación.\n",
    "#    Aquí se configura la 'temperature' para controlar la aleatoriedad de la respuesta.\n",
    "#    Valores bajos de temperatura (ej: 0.2) hacen la respuesta más determinista.\n",
    "#    La estructura de la respuesta es similar a la generación simple.\n",
    "\n",
    "\"\"\"\n",
    "Ejemplo con más parámetros:\n",
    "\n",
    "response = ollama.generate(\n",
    "    model=\"phi3.5:latest\",\n",
    "    prompt=promp_imput,\n",
    "    options={\n",
    "        \"temperature\": 0.5,\n",
    "        \"top_p\": 0.9,\n",
    "        \"num_predict\": 150,\n",
    "        \"stop\": [\"\\n\\n\", \"fin\"]\n",
    "    },\n",
    "    keep_alive=\"0\"\n",
    ")\n",
    "\n",
    "\"\"\"\n",
    "\n",
    "\n",
    "response = ollama.generate(\n",
    "model=\"phi3.5:latest\",\n",
    "prompt=promp_imput,\n",
    "\n",
    "options={\n",
    "    \"temperature\":0.9\n",
    "},\n",
    "\n",
    "keep_alive=\"0\"\n",
    "\n",
    ")\n"
   ]
  },
  {
   "cell_type": "code",
   "execution_count": 21,
   "metadata": {},
   "outputs": [
    {
     "name": "stdout",
     "output_type": "stream",
     "text": [
      "En el silencio de la mañana suave y fría,  \n",
      "Crea una melodía delicada pero sincera.   \n",
      "Bajo los cielos donde las nubes se arremolinan apretujando,    \n",
      "Un mundo pintado con tonos dorados esplende bajo un rocío gentil. \n",
      "\n",
      "El beso de la brisa entre susurros dulces y leves,  \n",
      "Brila en el lienzo del amanecer radiante.   \n",
      "La luz suavemente filtrándose a través los ramos verdes,    \n",
      "Crea un abrazo cálido para quienes duermen profundamente. \n",
      "\n",
      "El rincón silencioso de la naturaleza susurrante y tierna  \n",
      "Con secretos dorados dentro del corazón que leer.   \n",
      "Los pájaros cantando melodías suaves al cielo,    \n",
      "Una sinfonía para las mascarillas aplastadas por el despertar brillante. \n",
      "\n",
      "Ella teje un camino donde los robles se extienden y tocan en sincronía;  \n",
      "Un mariposas danzan libremente entrelazando sus alas suaves,   \n",
      "En esta hermosa escena de belleza ilimitada a lo lejos. \n",
      "El poema del tiempo bajo el parpadeo silencioso de las estrellas.\n"
     ]
    }
   ],
   "source": [
    "print(response[\"response\"])"
   ]
  },
  {
   "cell_type": "code",
   "execution_count": null,
   "metadata": {},
   "outputs": [],
   "source": []
  }
 ],
 "metadata": {
  "kernelspec": {
   "display_name": ".venv",
   "language": "python",
   "name": "python3"
  },
  "language_info": {
   "codemirror_mode": {
    "name": "ipython",
    "version": 3
   },
   "file_extension": ".py",
   "mimetype": "text/x-python",
   "name": "python",
   "nbconvert_exporter": "python",
   "pygments_lexer": "ipython3",
   "version": "3.12.6"
  }
 },
 "nbformat": 4,
 "nbformat_minor": 2
}
