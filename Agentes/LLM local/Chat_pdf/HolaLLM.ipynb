{
 "cells": [
  {
   "cell_type": "markdown",
   "metadata": {},
   "source": [
    "# **Este es el ejemplo más básico de como iteractuar con el modelo de LLM localmente**"
   ]
  },
  {
   "cell_type": "markdown",
   "metadata": {},
   "source": [
    "* Para crear entornos virtuales es con: python m venv <nombre_del_entorno_virtual>\n",
    "\n",
    "<br>\n",
    "\n",
    "* Para activarlo es con: <nombre_del_entorno_virtual>\\Scripts\\activate\n",
    "\n",
    "<br>\n",
    "\n",
    "* Para desactivarlo es con: deactivate\n"
   ]
  },
  {
   "cell_type": "code",
   "execution_count": 1,
   "metadata": {},
   "outputs": [],
   "source": [
    "import ollama"
   ]
  },
  {
   "cell_type": "code",
   "execution_count": 2,
   "metadata": {},
   "outputs": [],
   "source": [
    "promp_imput = \"Hola, dime un poema\""
   ]
  },
  {
   "cell_type": "code",
   "execution_count": 3,
   "metadata": {},
   "outputs": [
    {
     "name": "stdout",
     "output_type": "stream",
     "text": [
      "En la quietud de un día tan claro y vivo,  \n",
      "donde las hojas bailan alegremente en el suave brisa corriente,   \n",
      "miena mi voz por lo alto al cielo abierto—no es más que una poesía sencilla. \n",
      "\n",
      "Un suspiro del jardín de flores dorado,  \n",
      "donde los pétalos bailan bajo el cálido rocío y luz solar radiante;   \n",
      "en este escenario tan maravilloso no hay más que dulce poesía. \n",
      "\n",
      "El río canta una melodía suave—su canción es mágica,  \n",
      "con cada remolino reflejando lo inefable del tiempo al despertar de la mañana;   \n",
      "en el correr curso dorado vierte sus versos líquidos. \n",
      "\n",
      "Un campo extendido por un cálido abrazo tranquilo—la tierra se llena con vida,  \n",
      "bajo los cielos inmensamente vasto y celestiales;   \n",
      "en este lienzo tan rico de armonía la poesía encuentra su espacio. \n",
      "\n",
      "Cada instante una página en el libro del tiempo—no hay más que líneas dulces escrita,  \n",
      "con los momentos fugaces como estrellas brillantes y serenas;   dictaminan sus versos un día tan inesperado de oportunidad. \n",
      "\n",
      "En la belleza silenciosa donde el mundo se encuentra con sí mismo—la poesía reside en cada aliento,  \n",
      "en las cosas simples que son demasiados para ser ignoradas;   \n",
      "allí una canción sencilla florece y vive eternamente.\n"
     ]
    }
   ],
   "source": [
    "response = ollama.chat(model=\"phi3.5:latest\", messages= [{\"role\": \"user\", \"content\": promp_imput}])\n",
    "print(response[\"message\"][\"content\"])"
   ]
  },
  {
   "cell_type": "code",
   "execution_count": 4,
   "metadata": {},
   "outputs": [
    {
     "data": {
      "text/plain": [
       "'En la soñada noche de estrellas suaves,  \\nDonde las sombras se entrelazan y tejen historias tan antiguas.   \\nUn suspiro del viento a través los ramos dorados de roble viejo,    \\nCanta un poema bajo el manto vespertino sin fin.\\n\\nBajo la luna que brilla con una mirada tenue,  \\nEl silencio habla por sí solo y se extiende mucho lejos donde ningún corazón puede alcanzar.   \\nLas gotas de rocío bailan sobre las flores danzantes en un baile fugaz,    \\nUn reflejo del tiempo que fluye rápido sin preocupación ni presión.\\n\\nEl río susurra suavemente a través los valles y llanuras tierras,   \\nCon puro deseo de llegar donde nadie más puede escuchar.  \\nSus aguas veladas son un lienzo pintado en azul oscuro profundo;    \\nUn testimonio del viaje que ningún camino es suficiente para contarlo todo.\\n\\nLuz fugaz, destello de luna entre los abrazos nublados y grises,  \\nIluminando el sueño silencioso donde nuestros pensamendo son guardianes solitarios.   \\nEn esta noche más allá del tiempo e historia conocidos,    \\nEl mundo desaparece hasta encontrar la paz dulce de los destilados maravillosos versos que escribo yo aquí:  \\nUn poema para el crepúsculo donde todo pareciera estar aún presente.'"
      ]
     },
     "execution_count": 4,
     "metadata": {},
     "output_type": "execute_result"
    }
   ],
   "source": [
    "ollama.generate(model = \"phi3.5:latest\", prompt = promp_imput, keep_alive=\"0\")[\"response\"]"
   ]
  },
  {
   "cell_type": "code",
   "execution_count": 5,
   "metadata": {},
   "outputs": [],
   "source": [
    "response = ollama.generate(\n",
    "\n",
    "model=\"phi3.5:latest\",\n",
    "prompt=promp_imput,\n",
    "\n",
    "options={\n",
    "\n",
    "    \"temperature\":0.2\n",
    "\n",
    "},\n",
    "\n",
    "keep_alive=\"0\"\n",
    "\n",
    ")"
   ]
  },
  {
   "cell_type": "code",
   "execution_count": 6,
   "metadata": {},
   "outputs": [
    {
     "name": "stdout",
     "output_type": "stream",
     "text": [
      "En el abrazo del crepúsculo suave y cálido,  \n",
      "Donde las sombras bailan con la luz de los cielos.   \n",
      "Un susurro silencioso en tonadas leves,    \n",
      "La noche se despliega como un lienzo fresco para el verso del viento.     \n",
      "\n",
      "Bajo esta tela estrellada y sin fines,  \n",
      "Crea una danza de versos que fluyen libremente al aire.   \n",
      "Un suspiro silencioso en la quietud nocturna,    \n",
      "Una canción dulce del cosmos para el corazón humano.     \n",
      "\n",
      "El cielo se llena con diamantes brillando y llenos de vida,  \n",
      "Cada uno un verso que cantan al ritmo silencioso de la oscuridad.   \n",
      "Un poema escrito por las estrellas en su danza celestial,    \n",
      "Una historia no contada pero profundamente sentida.     \n",
      "\n",
      "El viento susurra historias a través del campo y el valle,  \n",
      "Por los campos de maíz que se extienden hasta donde la vista llega.   \n",
      "Un poema escrito en las hojas al borde del agua,    \n",
      "En cada riachuelo corriente bajo un cielo sin fines.     \n",
      "\n",
      "El silencio habla tan fuerte como el canto de los pájaros,  \n",
      "Cada nota una línea que se entrelazan en la noche.   \n",
      "Un poema escrito por las alas del crepúsculo y luz solar,    \n",
      "En un mundo donde cada momento es eterno e infinito.     \n",
      "\n",
      "Así florece el día a medida que los cielos cambian de tono,  \n",
      "De azul profundo hasta naranja cálido en su despedida final.   \n",
      "Un poema escrito por la luz del amanecer y las sombras crepusculares,    \n",
      "Una historia sin fin donde el tiempo se desvanece silenciosamente.     \n",
      "\n",
      "En cada momento que pasa bajo los cielos cambiantes,  \n",
      "El mundo es un poema en constante escritura de amor e ilusión.   \n",
      "Un verso escrito por la vida y sus maravillosas formas,    \n",
      "Una sinfonía silenciosa donde el corazón encuentra su voz interior.\n"
     ]
    }
   ],
   "source": [
    "print(response[\"response\"])"
   ]
  }
 ],
 "metadata": {
  "kernelspec": {
   "display_name": "Python 3",
   "language": "python",
   "name": "python3"
  },
  "language_info": {
   "codemirror_mode": {
    "name": "ipython",
    "version": 3
   },
   "file_extension": ".py",
   "mimetype": "text/x-python",
   "name": "python",
   "nbconvert_exporter": "python",
   "pygments_lexer": "ipython3",
   "version": "3.12.6"
  }
 },
 "nbformat": 4,
 "nbformat_minor": 2
}
